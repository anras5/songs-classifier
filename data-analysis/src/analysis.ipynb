{
 "cells": [
  {
   "cell_type": "markdown",
   "id": "847f8c51-b3d5-45e4-98f2-f6d443b885a9",
   "metadata": {},
   "source": [
    "# Analiza zbioru danych 🎹 Spotify Tracks Dataset\n",
    "\n",
    "W tym notatniku zaprezentowana zostanie analiza zbioru dannych [🎹 Spotify Tracks Dataset](https://www.kaggle.com/datasets/maharshipandya/-spotify-tracks-dataset). Najpierw przeprowadzona zostanie wstępna eksploracyjna analiza danych, a następnie wytrenowane zostaną modele, które przewidywać będą gatunek muzyki dla danej piosenki na podstawie atrybutów dostępnych w zbiorze danych."
   ]
  },
  {
   "cell_type": "markdown",
   "id": "eb5983ac-0351-40d5-a8a5-3676406a9235",
   "metadata": {},
   "source": [
    "### Import niezbędnych bibliotek oraz pakietów"
   ]
  },
  {
   "cell_type": "code",
   "execution_count": 18,
   "id": "ca7d0814-ed9e-49c5-8382-cd0e20c9f155",
   "metadata": {},
   "outputs": [],
   "source": [
    "import pandas as pd\n",
    "import numpy as np\n",
    "import seaborn as sns\n",
    "import matplotlib.pyplot as plt\n",
    "\n",
    "pd.set_option('display.float_format', lambda x: '%.4f' % x)"
   ]
  },
  {
   "cell_type": "markdown",
   "id": "27c0dbcf-75d9-4f8a-9d2d-f5b29f509163",
   "metadata": {},
   "source": [
    "# Opis zbioru danych"
   ]
  },
  {
   "cell_type": "markdown",
   "id": "da7c8c7f-7132-4466-bacb-930bd9ccb035",
   "metadata": {},
   "source": [
    "## Wczytanie zbioru danych oraz wstępne przetwarzanie"
   ]
  },
  {
   "cell_type": "markdown",
   "id": "835ecea1-a961-4a0b-8cda-239dbb0fbf15",
   "metadata": {},
   "source": [
    "Z całego zbioru danych zostaną wyfiltrowane tylko niektóre gatunki, które nie zależą od pochodzenia/narodowości twórcy oraz które są popularne."
   ]
  },
  {
   "cell_type": "code",
   "execution_count": 19,
   "id": "3eda6db4-191e-47b7-8ac3-45018b23222f",
   "metadata": {},
   "outputs": [],
   "source": [
    "GENRES = ['acoustic', 'afrobeat', 'alt-rock', 'alternative', 'ambient', 'black-metal', 'blues', 'children', 'chill', 'classical', 'country', 'dance', 'death-metal', 'disco', 'edm', 'electro', 'funk', 'groove', 'hard-rock', 'hip-hop', 'jazz', 'opera', 'piano', 'pop', 'punk', 'reggae', 'rock-n-roll', 'rock', 'sad', 'sleep', 'soul', 'study']"
   ]
  },
  {
   "cell_type": "markdown",
   "id": "9148f88b-2442-4a6c-841d-bef6d22b980c",
   "metadata": {},
   "source": [
    "Przykładowe 5 próbek ze zbioru danych"
   ]
  },
  {
   "cell_type": "code",
   "execution_count": 20,
   "id": "783e30b2-151a-481c-864c-623d31788842",
   "metadata": {},
   "outputs": [
    {
     "name": "stdout",
     "output_type": "stream",
     "text": [
      "Liczba atrybutów: 20\n"
     ]
    },
    {
     "data": {
      "text/html": [
       "<div>\n",
       "<style scoped>\n",
       "    .dataframe tbody tr th:only-of-type {\n",
       "        vertical-align: middle;\n",
       "    }\n",
       "\n",
       "    .dataframe tbody tr th {\n",
       "        vertical-align: top;\n",
       "    }\n",
       "\n",
       "    .dataframe thead th {\n",
       "        text-align: right;\n",
       "    }\n",
       "</style>\n",
       "<table border=\"1\" class=\"dataframe\">\n",
       "  <thead>\n",
       "    <tr style=\"text-align: right;\">\n",
       "      <th></th>\n",
       "      <th>track_id</th>\n",
       "      <th>artists</th>\n",
       "      <th>album_name</th>\n",
       "      <th>track_name</th>\n",
       "      <th>popularity</th>\n",
       "      <th>duration_ms</th>\n",
       "      <th>explicit</th>\n",
       "      <th>danceability</th>\n",
       "      <th>energy</th>\n",
       "      <th>key</th>\n",
       "      <th>loudness</th>\n",
       "      <th>mode</th>\n",
       "      <th>speechiness</th>\n",
       "      <th>acousticness</th>\n",
       "      <th>instrumentalness</th>\n",
       "      <th>liveness</th>\n",
       "      <th>valence</th>\n",
       "      <th>tempo</th>\n",
       "      <th>time_signature</th>\n",
       "      <th>track_genre</th>\n",
       "    </tr>\n",
       "  </thead>\n",
       "  <tbody>\n",
       "    <tr>\n",
       "      <th>86485</th>\n",
       "      <td>5zTirec9tIsSVNgBSUmFxU</td>\n",
       "      <td>Charly García</td>\n",
       "      <td>Unplugged</td>\n",
       "      <td>Pasajera En Trance - Live</td>\n",
       "      <td>43</td>\n",
       "      <td>203973</td>\n",
       "      <td>False</td>\n",
       "      <td>0.5910</td>\n",
       "      <td>0.6140</td>\n",
       "      <td>0</td>\n",
       "      <td>-10.4920</td>\n",
       "      <td>1</td>\n",
       "      <td>0.0410</td>\n",
       "      <td>0.5270</td>\n",
       "      <td>0.0175</td>\n",
       "      <td>0.9790</td>\n",
       "      <td>0.6010</td>\n",
       "      <td>99.2800</td>\n",
       "      <td>4</td>\n",
       "      <td>punk</td>\n",
       "    </tr>\n",
       "    <tr>\n",
       "      <th>105918</th>\n",
       "      <td>33E1MSUblH1H3WdiaXEZL7</td>\n",
       "      <td>Justnormal</td>\n",
       "      <td>Growing Older</td>\n",
       "      <td>Early Mornings</td>\n",
       "      <td>16</td>\n",
       "      <td>123151</td>\n",
       "      <td>False</td>\n",
       "      <td>0.8160</td>\n",
       "      <td>0.4940</td>\n",
       "      <td>7</td>\n",
       "      <td>-10.2500</td>\n",
       "      <td>1</td>\n",
       "      <td>0.1010</td>\n",
       "      <td>0.8460</td>\n",
       "      <td>0.8800</td>\n",
       "      <td>0.0932</td>\n",
       "      <td>0.4030</td>\n",
       "      <td>93.7580</td>\n",
       "      <td>4</td>\n",
       "      <td>study</td>\n",
       "    </tr>\n",
       "    <tr>\n",
       "      <th>2900</th>\n",
       "      <td>507bYMYfbm6sUS9iEAaeSd</td>\n",
       "      <td>Seether;Amy Lee</td>\n",
       "      <td>Disclaimer II</td>\n",
       "      <td>Broken</td>\n",
       "      <td>70</td>\n",
       "      <td>258333</td>\n",
       "      <td>False</td>\n",
       "      <td>0.4480</td>\n",
       "      <td>0.6100</td>\n",
       "      <td>3</td>\n",
       "      <td>-2.6950</td>\n",
       "      <td>0</td>\n",
       "      <td>0.0342</td>\n",
       "      <td>0.0102</td>\n",
       "      <td>0.0005</td>\n",
       "      <td>0.1350</td>\n",
       "      <td>0.2140</td>\n",
       "      <td>123.7620</td>\n",
       "      <td>4</td>\n",
       "      <td>alt-rock</td>\n",
       "    </tr>\n",
       "    <tr>\n",
       "      <th>19318</th>\n",
       "      <td>6JZg74LR98YrRM0wlbCDLM</td>\n",
       "      <td>Rascal Flatts</td>\n",
       "      <td>Christmas Country Songs 2022</td>\n",
       "      <td>Joy To The World</td>\n",
       "      <td>0</td>\n",
       "      <td>218520</td>\n",
       "      <td>False</td>\n",
       "      <td>0.4170</td>\n",
       "      <td>0.8800</td>\n",
       "      <td>7</td>\n",
       "      <td>-4.0220</td>\n",
       "      <td>1</td>\n",
       "      <td>0.0521</td>\n",
       "      <td>0.1670</td>\n",
       "      <td>0.0000</td>\n",
       "      <td>0.0755</td>\n",
       "      <td>0.5790</td>\n",
       "      <td>149.9870</td>\n",
       "      <td>4</td>\n",
       "      <td>country</td>\n",
       "    </tr>\n",
       "    <tr>\n",
       "      <th>94711</th>\n",
       "      <td>1sMjYDNFpNoPjNH2ifBvuA</td>\n",
       "      <td>Beowülf;INTRN</td>\n",
       "      <td>Lose A Friend</td>\n",
       "      <td>Lose A Friend</td>\n",
       "      <td>48</td>\n",
       "      <td>202605</td>\n",
       "      <td>False</td>\n",
       "      <td>0.7560</td>\n",
       "      <td>0.3920</td>\n",
       "      <td>6</td>\n",
       "      <td>-10.1910</td>\n",
       "      <td>0</td>\n",
       "      <td>0.0446</td>\n",
       "      <td>0.2620</td>\n",
       "      <td>0.0000</td>\n",
       "      <td>0.1260</td>\n",
       "      <td>0.0658</td>\n",
       "      <td>125.0220</td>\n",
       "      <td>4</td>\n",
       "      <td>sad</td>\n",
       "    </tr>\n",
       "  </tbody>\n",
       "</table>\n",
       "</div>"
      ],
      "text/plain": [
       "                      track_id          artists                    album_name  \\\n",
       "86485   5zTirec9tIsSVNgBSUmFxU    Charly García                     Unplugged   \n",
       "105918  33E1MSUblH1H3WdiaXEZL7       Justnormal                 Growing Older   \n",
       "2900    507bYMYfbm6sUS9iEAaeSd  Seether;Amy Lee                 Disclaimer II   \n",
       "19318   6JZg74LR98YrRM0wlbCDLM    Rascal Flatts  Christmas Country Songs 2022   \n",
       "94711   1sMjYDNFpNoPjNH2ifBvuA    Beowülf;INTRN                 Lose A Friend   \n",
       "\n",
       "                       track_name  popularity  duration_ms  explicit  \\\n",
       "86485   Pasajera En Trance - Live          43       203973     False   \n",
       "105918             Early Mornings          16       123151     False   \n",
       "2900                       Broken          70       258333     False   \n",
       "19318            Joy To The World           0       218520     False   \n",
       "94711               Lose A Friend          48       202605     False   \n",
       "\n",
       "        danceability  energy  key  loudness  mode  speechiness  acousticness  \\\n",
       "86485         0.5910  0.6140    0  -10.4920     1       0.0410        0.5270   \n",
       "105918        0.8160  0.4940    7  -10.2500     1       0.1010        0.8460   \n",
       "2900          0.4480  0.6100    3   -2.6950     0       0.0342        0.0102   \n",
       "19318         0.4170  0.8800    7   -4.0220     1       0.0521        0.1670   \n",
       "94711         0.7560  0.3920    6  -10.1910     0       0.0446        0.2620   \n",
       "\n",
       "        instrumentalness  liveness  valence    tempo  time_signature  \\\n",
       "86485             0.0175    0.9790   0.6010  99.2800               4   \n",
       "105918            0.8800    0.0932   0.4030  93.7580               4   \n",
       "2900              0.0005    0.1350   0.2140 123.7620               4   \n",
       "19318             0.0000    0.0755   0.5790 149.9870               4   \n",
       "94711             0.0000    0.1260   0.0658 125.0220               4   \n",
       "\n",
       "       track_genre  \n",
       "86485         punk  \n",
       "105918       study  \n",
       "2900      alt-rock  \n",
       "19318      country  \n",
       "94711          sad  "
      ]
     },
     "execution_count": 20,
     "metadata": {},
     "output_type": "execute_result"
    }
   ],
   "source": [
    "df = pd.read_csv(\"data/dataset.csv\", index_col=0)\n",
    "df = df[df['track_genre'].isin(GENRES)]\n",
    "print(f\"Liczba atrybutów: {len(df.columns)}\")\n",
    "df.sample(5)"
   ]
  },
  {
   "cell_type": "markdown",
   "id": "3d56d941-80fe-41ed-9ef8-34aecaf14bbd",
   "metadata": {},
   "source": [
    "## Opis zbioru danych\n",
    "\n",
    "Zbiór danych posiada 20 atrybutów. Pogrubioną czcionką oznaczone zostały te, które będą używane w dalszej analizie danych oraz podczas uczenia modeli.\n",
    "1. track_id - unikalny identyfikator utworu w ramach Spotify,\n",
    "2. artists - zbiór artystów, którzy są autorami piosenki,\n",
    "3. album_name - nazwa albumu, na którym pojawia się piosenka,\n",
    "4. track_name - nazwa piosenki,\n",
    "5. **popularity** - popularność piosenki wyrażona na skali od 0 do 100. Wyliczana jest ona na podstawie algorytmu przygotowanego przez Spotify, który bierze pod uwagę takie czynniki jak liczba odtworzeń utworu w serwisie oraz ich aktualności (czy utwór jest popularny teraz czy w przeszłości),\n",
    "6. **duration_ms** - długość trwania pionseki w milisekundach,\n",
    "7. **explicit** - wartość bool określająca czy piosenka posiada niecenzuralne słowa,\n",
    "8. **danceability** - wartość od 0.0 do 1.0 określająca jak bardzo piosenka nadaje się do tańczenia. Wartość wyliczana jest między innymi na podstawie tempa czy też stabilności rytmu,\n",
    "9. **energy** - wartość od 0.0 do 1.0 reprezentująca miarę intensywności utworu. Przykładowo piosenki, które są szybkie, głośne oraz hałaśliwe mają wysoką wartość energii,\n",
    "10. **key** - tonacja, w której jest piosenka określona w notacji [Pitch class](https://en.wikipedia.org/wiki/Pitch_class),\n",
    "11. **loudness** - średnia głośność piosenki wyrażona w decybelach,\n",
    "12. **mode** - określenie czy piosenka jest w tonacji dur (1) czy moll (0),\n",
    "13. **speechiness** - wartość od 0.0 do 1.0 odpowiadająca za obecność słów w piosence. Przykładowo poezja czytana albo podcast posiada wartość 1.0,\n",
    "14. **acousticness** - wartość od 0.0 do 1.0 określająca jak bardzo akustyczny jest utwór,\n",
    "15. **instrumentalness** - wartość od 0.0 do 1.0 określająca czy utwór zawiera słowa. Przykładowo piosenki, które są zaklasyfikowane jako Rap będą miały niską wartość instrumentalness. Im większa wartość tego atrybutu, tym większa pewność, że utwór nie posiada słów,\n",
    "16. liveness - wartość od 0.0 do 1.0 określająca pewność z jaką utwór został wykonany na żywo,\n",
    "17. **valence** - wartość od 0.0 do 1.0 określająca jak bardzo pozytywny jest utwór. Piosenki, które mają wartość 1.0 na tym atrybucie będą radosne, a z małymi wartościami (bliskimi 0.0) będą smutne,\n",
    "18. **tempo** - średnia tempo utworu [BPM](https://en.wikipedia.org/wiki/Tempo),\n",
    "19. time_signature - oszacowane taktowanie utworu,\n",
    "20. **track_genre** - gatunek muzyki, do którego należy piosenka."
   ]
  },
  {
   "cell_type": "code",
   "execution_count": 24,
   "id": "df2d94e5-74e5-4513-8cc2-89cb86d84f8d",
   "metadata": {},
   "outputs": [
    {
     "data": {
      "text/plain": [
       "popularity             int64\n",
       "duration_ms            int64\n",
       "explicit                bool\n",
       "danceability         float64\n",
       "energy               float64\n",
       "key                 category\n",
       "loudness             float64\n",
       "mode                    bool\n",
       "speechiness          float64\n",
       "acousticness         float64\n",
       "instrumentalness     float64\n",
       "valence              float64\n",
       "tempo                float64\n",
       "track_genre           object\n",
       "dtype: object"
      ]
     },
     "execution_count": 24,
     "metadata": {},
     "output_type": "execute_result"
    }
   ],
   "source": [
    "COLUMNS = ['popularity', 'duration_ms', 'explicit', 'danceability', 'energy', 'key', 'loudness', 'mode', 'speechiness', 'acousticness', 'instrumentalness', 'valence', 'tempo', 'track_genre']\n",
    "df = df[COLUMNS]\n",
    "\n",
    "# Mapping key to object and mode to bool\n",
    "df['key'] = df['key'].astype('category')\n",
    "df['mode'] = df['mode'].astype('bool')\n",
    "\n",
    "df.dtypes"
   ]
  },
  {
   "cell_type": "markdown",
   "id": "b05e9c8a-9128-455a-a465-9ce8370e7b4c",
   "metadata": {},
   "source": [
    "Większość z rozważanych atrybutów jest typu int lub float, czyli są to liczby natomiast są również atrybuty takie jak: *explicit* przyjmująca wartość boolowską - Prawda lub Fałsz, *key* która mimo tego, że określana jako integer ma charakter kategoryczny (nie można powiedzieć że próbka przyjmująca wartość 1 jest gorsza/lepsza od próbki przyjmującej wartość 2 na tym atrybucie), *mode* przyjmująca wartość boolowską - Prawda jeżeli tonacja dur, Fałsz jeżeli tonacja moll."
   ]
  },
  {
   "cell_type": "code",
   "execution_count": 28,
   "id": "c5d5ce76-9f9c-4267-a284-e0c01dda5858",
   "metadata": {},
   "outputs": [
    {
     "data": {
      "text/plain": [
       "False"
      ]
     },
     "execution_count": 28,
     "metadata": {},
     "output_type": "execute_result"
    }
   ],
   "source": [
    "df.isnull().values.any()"
   ]
  },
  {
   "cell_type": "markdown",
   "id": "183038a4-6b75-410c-b5e1-767f213c6976",
   "metadata": {},
   "source": [
    "W przygotowanym zbiorze danych nie ma wartości brakujących."
   ]
  },
  {
   "cell_type": "code",
   "execution_count": 25,
   "id": "404ad4f8-39d3-4ec7-9d1f-4ab03b8ad143",
   "metadata": {},
   "outputs": [
    {
     "data": {
      "text/html": [
       "<div>\n",
       "<style scoped>\n",
       "    .dataframe tbody tr th:only-of-type {\n",
       "        vertical-align: middle;\n",
       "    }\n",
       "\n",
       "    .dataframe tbody tr th {\n",
       "        vertical-align: top;\n",
       "    }\n",
       "\n",
       "    .dataframe thead th {\n",
       "        text-align: right;\n",
       "    }\n",
       "</style>\n",
       "<table border=\"1\" class=\"dataframe\">\n",
       "  <thead>\n",
       "    <tr style=\"text-align: right;\">\n",
       "      <th></th>\n",
       "      <th>popularity</th>\n",
       "      <th>duration_ms</th>\n",
       "      <th>danceability</th>\n",
       "      <th>energy</th>\n",
       "      <th>loudness</th>\n",
       "      <th>speechiness</th>\n",
       "      <th>acousticness</th>\n",
       "      <th>instrumentalness</th>\n",
       "      <th>valence</th>\n",
       "      <th>tempo</th>\n",
       "    </tr>\n",
       "  </thead>\n",
       "  <tbody>\n",
       "    <tr>\n",
       "      <th>count</th>\n",
       "      <td>32000.0000</td>\n",
       "      <td>32000.0000</td>\n",
       "      <td>32000.0000</td>\n",
       "      <td>32000.0000</td>\n",
       "      <td>32000.0000</td>\n",
       "      <td>32000.0000</td>\n",
       "      <td>32000.0000</td>\n",
       "      <td>32000.0000</td>\n",
       "      <td>32000.0000</td>\n",
       "      <td>32000.0000</td>\n",
       "    </tr>\n",
       "    <tr>\n",
       "      <th>mean</th>\n",
       "      <td>32.1483</td>\n",
       "      <td>212219.9616</td>\n",
       "      <td>0.5554</td>\n",
       "      <td>0.5867</td>\n",
       "      <td>-9.2323</td>\n",
       "      <td>0.0756</td>\n",
       "      <td>0.3624</td>\n",
       "      <td>0.1729</td>\n",
       "      <td>0.4668</td>\n",
       "      <td>118.4999</td>\n",
       "    </tr>\n",
       "    <tr>\n",
       "      <th>std</th>\n",
       "      <td>26.4892</td>\n",
       "      <td>96688.2503</td>\n",
       "      <td>0.1934</td>\n",
       "      <td>0.2717</td>\n",
       "      <td>6.2607</td>\n",
       "      <td>0.0770</td>\n",
       "      <td>0.3538</td>\n",
       "      <td>0.3284</td>\n",
       "      <td>0.2655</td>\n",
       "      <td>31.2380</td>\n",
       "    </tr>\n",
       "    <tr>\n",
       "      <th>min</th>\n",
       "      <td>0.0000</td>\n",
       "      <td>17453.0000</td>\n",
       "      <td>0.0000</td>\n",
       "      <td>0.0000</td>\n",
       "      <td>-49.5310</td>\n",
       "      <td>0.0000</td>\n",
       "      <td>0.0000</td>\n",
       "      <td>0.0000</td>\n",
       "      <td>0.0000</td>\n",
       "      <td>0.0000</td>\n",
       "    </tr>\n",
       "    <tr>\n",
       "      <th>25%</th>\n",
       "      <td>1.0000</td>\n",
       "      <td>162897.0000</td>\n",
       "      <td>0.4280</td>\n",
       "      <td>0.3890</td>\n",
       "      <td>-10.8573</td>\n",
       "      <td>0.0356</td>\n",
       "      <td>0.0301</td>\n",
       "      <td>0.0000</td>\n",
       "      <td>0.2430</td>\n",
       "      <td>95.0040</td>\n",
       "    </tr>\n",
       "    <tr>\n",
       "      <th>50%</th>\n",
       "      <td>33.0000</td>\n",
       "      <td>200299.0000</td>\n",
       "      <td>0.5790</td>\n",
       "      <td>0.6220</td>\n",
       "      <td>-7.3095</td>\n",
       "      <td>0.0477</td>\n",
       "      <td>0.2230</td>\n",
       "      <td>0.0000</td>\n",
       "      <td>0.4600</td>\n",
       "      <td>118.2930</td>\n",
       "    </tr>\n",
       "    <tr>\n",
       "      <th>75%</th>\n",
       "      <td>55.0000</td>\n",
       "      <td>244053.0000</td>\n",
       "      <td>0.7020</td>\n",
       "      <td>0.8160</td>\n",
       "      <td>-5.2530</td>\n",
       "      <td>0.0791</td>\n",
       "      <td>0.7030</td>\n",
       "      <td>0.0826</td>\n",
       "      <td>0.6810</td>\n",
       "      <td>137.6435</td>\n",
       "    </tr>\n",
       "    <tr>\n",
       "      <th>max</th>\n",
       "      <td>100.0000</td>\n",
       "      <td>4120258.0000</td>\n",
       "      <td>0.9800</td>\n",
       "      <td>1.0000</td>\n",
       "      <td>1.8210</td>\n",
       "      <td>0.9430</td>\n",
       "      <td>0.9960</td>\n",
       "      <td>1.0000</td>\n",
       "      <td>0.9950</td>\n",
       "      <td>243.3720</td>\n",
       "    </tr>\n",
       "  </tbody>\n",
       "</table>\n",
       "</div>"
      ],
      "text/plain": [
       "       popularity  duration_ms  danceability     energy   loudness  \\\n",
       "count  32000.0000   32000.0000    32000.0000 32000.0000 32000.0000   \n",
       "mean      32.1483  212219.9616        0.5554     0.5867    -9.2323   \n",
       "std       26.4892   96688.2503        0.1934     0.2717     6.2607   \n",
       "min        0.0000   17453.0000        0.0000     0.0000   -49.5310   \n",
       "25%        1.0000  162897.0000        0.4280     0.3890   -10.8573   \n",
       "50%       33.0000  200299.0000        0.5790     0.6220    -7.3095   \n",
       "75%       55.0000  244053.0000        0.7020     0.8160    -5.2530   \n",
       "max      100.0000 4120258.0000        0.9800     1.0000     1.8210   \n",
       "\n",
       "       speechiness  acousticness  instrumentalness    valence      tempo  \n",
       "count   32000.0000    32000.0000        32000.0000 32000.0000 32000.0000  \n",
       "mean        0.0756        0.3624            0.1729     0.4668   118.4999  \n",
       "std         0.0770        0.3538            0.3284     0.2655    31.2380  \n",
       "min         0.0000        0.0000            0.0000     0.0000     0.0000  \n",
       "25%         0.0356        0.0301            0.0000     0.2430    95.0040  \n",
       "50%         0.0477        0.2230            0.0000     0.4600   118.2930  \n",
       "75%         0.0791        0.7030            0.0826     0.6810   137.6435  \n",
       "max         0.9430        0.9960            1.0000     0.9950   243.3720  "
      ]
     },
     "execution_count": 25,
     "metadata": {},
     "output_type": "execute_result"
    }
   ],
   "source": [
    "df.describe()"
   ]
  },
  {
   "cell_type": "markdown",
   "id": "357d68fe-e9b3-4300-af37-13490e6c37ce",
   "metadata": {},
   "source": [
    "W powyższej tabeli przedstawione zostały statystyki dotyczące każdego z atrybutów liczbowych. "
   ]
  },
  {
   "cell_type": "markdown",
   "id": "5e372e1a-cd56-4808-9c14-9d35b50cab8a",
   "metadata": {},
   "source": [
    "# Interpretacja przypadków ze zbioru danych"
   ]
  },
  {
   "cell_type": "code",
   "execution_count": null,
   "id": "fe41ba02-176d-4f79-a7c3-90d84d2d8ca6",
   "metadata": {},
   "outputs": [],
   "source": []
  },
  {
   "cell_type": "code",
   "execution_count": null,
   "id": "abe83384-20bc-4beb-8be8-6808f764efac",
   "metadata": {},
   "outputs": [],
   "source": []
  },
  {
   "cell_type": "code",
   "execution_count": null,
   "id": "3c22a6dd-1315-4f60-bfa2-d64c21dd7f0e",
   "metadata": {},
   "outputs": [],
   "source": []
  },
  {
   "cell_type": "markdown",
   "id": "ee8df0ba-f4ea-479e-8092-e2e5db07d1e6",
   "metadata": {},
   "source": [
    "# Eksploracyjna analiza danych"
   ]
  },
  {
   "cell_type": "markdown",
   "id": "01873bae-4169-4e3f-8fe1-ac512392b844",
   "metadata": {},
   "source": [
    "# Modele uczenia maszynowego"
   ]
  },
  {
   "cell_type": "markdown",
   "id": "ab8ac6b2-bcf5-45d7-abc9-ccf636dfe03e",
   "metadata": {},
   "source": [
    "# Interpretacja modeli"
   ]
  },
  {
   "cell_type": "markdown",
   "id": "13cdac88-ecb4-4c60-ae42-be3f50776100",
   "metadata": {},
   "source": [
    "# Źródła"
   ]
  },
  {
   "cell_type": "markdown",
   "id": "7417191b-7927-4043-837a-8ee15db2780f",
   "metadata": {},
   "source": [
    "# Wykorzystane biblioteki oraz pakiety"
   ]
  }
 ],
 "metadata": {
  "kernelspec": {
   "display_name": "Python 3 (ipykernel)",
   "language": "python",
   "name": "python3"
  },
  "language_info": {
   "codemirror_mode": {
    "name": "ipython",
    "version": 3
   },
   "file_extension": ".py",
   "mimetype": "text/x-python",
   "name": "python",
   "nbconvert_exporter": "python",
   "pygments_lexer": "ipython3",
   "version": "3.11.9"
  }
 },
 "nbformat": 4,
 "nbformat_minor": 5
}
